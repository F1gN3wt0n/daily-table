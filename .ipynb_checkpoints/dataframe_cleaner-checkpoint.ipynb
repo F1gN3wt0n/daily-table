{
 "cells": [
  {
   "cell_type": "code",
   "execution_count": 1,
   "id": "6a618d06",
   "metadata": {},
   "outputs": [],
   "source": [
    "import pandas as pd\n",
    "import os\n",
    "import xlsxwriter"
   ]
  },
  {
   "cell_type": "code",
   "execution_count": 2,
   "id": "6c2eb2a9",
   "metadata": {},
   "outputs": [],
   "source": [
    "#retrieve csv\n",
    "folder = 'product_dataframes'\n",
    "csv_name = os.listdir(folder).pop()\n",
    "curr_csv = folder + '/' + csv_name"
   ]
  },
  {
   "cell_type": "code",
   "execution_count": 3,
   "id": "dc05d039",
   "metadata": {},
   "outputs": [],
   "source": [
    "#clean dataframe\n",
    "products = pd.read_csv(curr_csv)\n",
    "#drop and organize columns\n",
    "products = products[['title', 'category', 'brand', 'price', 'mode', 'product_price_units', 'productPageUrl']]\n",
    "products.rename(columns={'title':'name', 'product_price_units':'unit', 'productPageUrl':'url'}, inplace=True)"
   ]
  },
  {
   "cell_type": "code",
   "execution_count": 4,
   "id": "7e965aa9",
   "metadata": {},
   "outputs": [],
   "source": [
    "#update urls\n",
    "products['url'] = 'https://centralsquare.dailytable.org' + products['url']"
   ]
  },
  {
   "cell_type": "code",
   "execution_count": 5,
   "id": "e8df2b42",
   "metadata": {},
   "outputs": [],
   "source": [
    "#remove incorrect items (items with price 999 are faulty)\n",
    "products = products.drop(products[products['price'] == 999.00].index)"
   ]
  },
  {
   "cell_type": "code",
   "execution_count": 6,
   "id": "40b712e8",
   "metadata": {},
   "outputs": [],
   "source": [
    "#correct brands\n",
    "brands = {brand.replace('\\n', '') for brand in open('brands.txt', 'r').readlines()}\n",
    "for brand in brands:\n",
    "    products.loc[products['name'].str.contains(brand), 'brand'] = brand\n",
    "    products['name'] = products['name'].map(lambda x: x.replace(brand, ''))"
   ]
  },
  {
   "cell_type": "code",
   "execution_count": 7,
   "id": "c64ecfde",
   "metadata": {},
   "outputs": [],
   "source": [
    "#shorten excessive category names\n",
    "products.loc[products['category'] == 'Canned Beans, Fruits & Vegetables', 'category'] = 'Canned Beans, Fruit & Veg'\n",
    "products.loc[products['category'] == 'Salad Dressings, Sauces & Condiments', 'category'] = 'Dressings, Sauces & Condiments'"
   ]
  },
  {
   "cell_type": "code",
   "execution_count": 14,
   "id": "63e93b71",
   "metadata": {},
   "outputs": [],
   "source": [
    "#sort and export to cleaned folder\n",
    "products.sort_values(by=['category'])\n",
    "products.to_csv(folder + '_cleaned/' + csv_name, index=False)"
   ]
  },
  {
   "cell_type": "code",
   "execution_count": null,
   "id": "27a02b2c",
   "metadata": {},
   "outputs": [],
   "source": []
  }
 ],
 "metadata": {
  "kernelspec": {
   "display_name": "Python 3 (ipykernel)",
   "language": "python",
   "name": "python3"
  },
  "language_info": {
   "codemirror_mode": {
    "name": "ipython",
    "version": 3
   },
   "file_extension": ".py",
   "mimetype": "text/x-python",
   "name": "python",
   "nbconvert_exporter": "python",
   "pygments_lexer": "ipython3",
   "version": "3.9.13"
  }
 },
 "nbformat": 4,
 "nbformat_minor": 5
}
